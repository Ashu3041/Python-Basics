{
 "cells": [
  {
   "cell_type": "raw",
   "id": "12d69fcd-b68d-4b5c-adba-38abc8939f02",
   "metadata": {},
   "source": [
    "a. A variable name must started with a letter or an underscore character.\n",
    "b. A variable name can't started with a number .\n",
    "c. A variable name can only contain alpha-numeric and underscores.\n"
   ]
  },
  {
   "cell_type": "raw",
   "id": "28ff7909-5313-4c5d-ae43-1f2ec4d32c0e",
   "metadata": {},
   "source": [
    "As we know keywords have predefined meanings so we can't use them as variables"
   ]
  },
  {
   "cell_type": "raw",
   "id": "79895872-ae55-4d3c-b15b-2ba5bff4b1a4",
   "metadata": {},
   "source": [
    "No we can't use string as variable name"
   ]
  },
  {
   "cell_type": "raw",
   "id": "a0fda1f3-555d-421b-93e5-f0964159b45f",
   "metadata": {},
   "source": [
    "Yes \"_\" can be a variable name, The example is _ = \"Ashu\""
   ]
  },
  {
   "cell_type": "raw",
   "id": "ef2560d1-d14b-4023-9ef7-24debb44113b",
   "metadata": {},
   "source": [
    "Dynamic means the type of variable can change during runtime .\n",
    "for instance:- a = 4\n",
    "a = \"Ashu\"\n",
    "here th"
   ]
  },
  {
   "cell_type": "code",
   "execution_count": null,
   "id": "0b7d43e0-6d81-46ff-9d5d-045f1c12269f",
   "metadata": {},
   "outputs": [],
   "source": []
  }
 ],
 "metadata": {
  "kernelspec": {
   "display_name": "Python 3 (ipykernel)",
   "language": "python",
   "name": "python3"
  },
  "language_info": {
   "codemirror_mode": {
    "name": "ipython",
    "version": 3
   },
   "file_extension": ".py",
   "mimetype": "text/x-python",
   "name": "python",
   "nbconvert_exporter": "python",
   "pygments_lexer": "ipython3",
   "version": "3.10.8"
  }
 },
 "nbformat": 4,
 "nbformat_minor": 5
}
